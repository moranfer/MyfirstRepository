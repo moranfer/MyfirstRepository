{
 "cells": [
  {
   "cell_type": "markdown",
   "metadata": {},
   "source": [
    "<center>\n",
    "    <img src=\"https://s3-api.us-geo.objectstorage.softlayer.net/cf-courses-data/CognitiveClass/Logos/organization_logo/organization_logo.png\" width=\"300\" alt=\"cognitiveclass.ai logo\"  />\n",
    "</center>\n"
   ]
  },
  {
   "cell_type": "markdown",
   "metadata": {},
   "source": [
    "#### Add your code below following the instructions given in the course\n"
   ]
  },
  {
   "cell_type": "markdown",
   "metadata": {},
   "source": [
    "# My Jupyter Notebook on IBM Watson Studio"
   ]
  },
  {
   "cell_type": "markdown",
   "metadata": {},
   "source": [
    "**Fernando René Morán Cruz** <br />\n",
    "Desired occupation: Data Engineer"
   ]
  },
  {
   "cell_type": "markdown",
   "metadata": {},
   "source": [
    "*I am really interested in Data Science because is fascinating what a data scientist can achieve with data, is mind opening to see how M.L. or D.L. models, data cleansing, deep analysis,etc are created and the numerous type of tools that are there  for us and we didn't have any idea. I hope to learn to use effectively this tools in order to became able to do my very own model too!*"
   ]
  },
  {
   "cell_type": "markdown",
   "metadata": {},
   "source": [
    "### Sum of two integer numbers"
   ]
  },
  {
   "cell_type": "code",
   "execution_count": 6,
   "metadata": {},
   "outputs": [
    {
     "name": "stdin",
     "output_type": "stream",
     "text": [
      "Please input an integer number:  2\n",
      "Plese input another integer number:  2\n"
     ]
    },
    {
     "name": "stdout",
     "output_type": "stream",
     "text": [
      "The result is\n",
      "4\n"
     ]
    }
   ],
   "source": [
    "a = int(input(\"Please input an integer number: \"))\n",
    "b = int(input(\"Plese input another integer number: \"))\n",
    "Sum = a+b\n",
    "print(\"The result is\")\n",
    "print(Sum)"
   ]
  },
  {
   "cell_type": "markdown",
   "metadata": {
    "jp-MarkdownHeadingCollapsed": true,
    "tags": []
   },
   "source": [
    ">Using `Markdown` or `HTML`, this cell must include at least 3 of the following: \n",
    "\n",
    "- ~~horizontal rule~~\n",
    "-------------------------\n",
    "\n",
    "- bulleted list\n",
    "\n",
    "- numbered list\n",
    "1. One\n",
    "2. Two\n",
    "3. Three\n",
    "- tables\n",
    "|Name         | Last name   |\n",
    "| :---------: | :---------: |\n",
    "| Fernando    |   Morán     |\n",
    "---\n",
    "hyperlinks: <br/>\n",
    " https://www.google.com/"
   ]
  },
  {
   "cell_type": "code",
   "execution_count": null,
   "metadata": {},
   "outputs": [],
   "source": []
  }
 ],
 "metadata": {
  "kernelspec": {
   "display_name": "Python",
   "language": "python",
   "name": "conda-env-python-py"
  },
  "language_info": {
   "codemirror_mode": {
    "name": "ipython",
    "version": 3
   },
   "file_extension": ".py",
   "mimetype": "text/x-python",
   "name": "python",
   "nbconvert_exporter": "python",
   "pygments_lexer": "ipython3",
   "version": "3.7.12"
  }
 },
 "nbformat": 4,
 "nbformat_minor": 4
}
